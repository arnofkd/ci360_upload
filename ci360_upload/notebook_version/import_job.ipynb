{
 "cells": [
  {
   "cell_type": "code",
   "execution_count": 10,
   "id": "420d8077",
   "metadata": {},
   "outputs": [],
   "source": [
    "import base64\n",
    "import jwt\n",
    "import requests\n",
    "import json\n",
    "import os\n",
    "import config"
   ]
  },
  {
   "cell_type": "markdown",
   "id": "8ea48af6",
   "metadata": {},
   "source": [
    "Create jwtToken"
   ]
  },
  {
   "cell_type": "code",
   "execution_count": 11,
   "id": "47b2bf66",
   "metadata": {},
   "outputs": [],
   "source": [
    "encodedSecret = base64.b64encode(bytes(config.secret, 'utf-8'))\n",
    "token = jwt.encode({'clientID': config.tenantId}, encodedSecret, algorithm='HS256')\n",
    "# print('\\nJWT token: ', token)"
   ]
  },
  {
   "cell_type": "markdown",
   "id": "0614cf90",
   "metadata": {},
   "source": [
    "Get presigned S3 URL for file upload\n"
   ]
  },
  {
   "cell_type": "code",
   "execution_count": 12,
   "id": "4c27ffb8",
   "metadata": {},
   "outputs": [
    {
     "name": "stdout",
     "output_type": "stream",
     "text": [
      "201\n"
     ]
    }
   ],
   "source": [
    "api_url = f\"https://extapigwservice-{config.server}/marketingData/fileTransferLocation\"\n",
    "headers =  {\"Content-Type\":\"application/json\",\"Authorization\": f\"Bearer {token}\"}\n",
    "response = requests.post(api_url,headers=headers)\n",
    "if (response.status_code < 400):\n",
    "    print(response.status_code)\n",
    "    signedURL = response.json()['signedURL']\n",
    "else:\n",
    "    print(response.status_code)\n",
    "    print(response.reason)\n"
   ]
  },
  {
   "cell_type": "markdown",
   "id": "144ced97",
   "metadata": {},
   "source": [
    "Upload file to S3"
   ]
  },
  {
   "cell_type": "code",
   "execution_count": 13,
   "id": "7b8480a4",
   "metadata": {},
   "outputs": [
    {
     "name": "stdout",
     "output_type": "stream",
     "text": [
      "200\n"
     ]
    }
   ],
   "source": [
    "#get current directory of where script is executed\n",
    "script_dir = os.path.abspath('')\n",
    "\n",
    "#create file path\n",
    "path = f\"import_ready_file/{config.filename}\"\n",
    "abs_file_path = os.path.join(script_dir, path)\n",
    "\n",
    "#create payload\n",
    "data = open(abs_file_path,'rb')\n",
    "\n",
    "import_headers = {\"Content-Type\":\"text/csv\"}\n",
    "\n",
    "response = requests.put(signedURL,headers=import_headers,data=data)\n",
    "if (response.status_code < 400):\n",
    "        print(response.status_code)\n",
    "else:\n",
    "    print(response.status_code)\n",
    "    print(response.reason)"
   ]
  },
  {
   "cell_type": "markdown",
   "id": "d31b6180",
   "metadata": {},
   "source": [
    "Submit an Import Request Job | https://go.documentation.sas.com/doc/en/cintcdc/production.a/cintag/dat-import-rest-submit.htm"
   ]
  },
  {
   "cell_type": "code",
   "execution_count": 14,
   "id": "0f3ea749",
   "metadata": {},
   "outputs": [],
   "source": [
    "json_payload= {\n",
    "  \"contentName\":f\"{config.importName}\",\n",
    "  \"dataDescriptorId\":\"9dc18870-f423-4d87-aeca-b7981f0891f7\",\n",
    "  \"fieldDelimiter\":\",\",\n",
    "  \"fileLocation\":f\"{signedURL}\",\n",
    "  \"fileType\":\"CSV\",\n",
    "  \"headerRowIncluded\": \"true\",\n",
    "  \"recordLimit\":0,\n",
    "  \"updateMode\":\"upsert\"  \n",
    "}\n"
   ]
  },
  {
   "cell_type": "code",
   "execution_count": 15,
   "id": "e2118294",
   "metadata": {},
   "outputs": [
    {
     "name": "stdout",
     "output_type": "stream",
     "text": [
      "201\n"
     ]
    }
   ],
   "source": [
    "api_url = f\"https://extapigwservice-{config.server}/marketingData/importRequestJobs\"\n",
    "response = requests.post(api_url,json=json_payload,headers=headers)\n",
    "if (response.status_code < 400):\n",
    "        print(response.status_code)\n",
    "        importId = response.json()['id']\n",
    "else:\n",
    "    print(response.status_code)\n",
    "    print(response.reason)"
   ]
  },
  {
   "cell_type": "markdown",
   "id": "85bf5748",
   "metadata": {},
   "source": [
    "Get status of upload"
   ]
  },
  {
   "cell_type": "code",
   "execution_count": 23,
   "id": "ebebe3e5",
   "metadata": {},
   "outputs": [
    {
     "name": "stdout",
     "output_type": "stream",
     "text": [
      "200\n",
      "Identity data is currently being synchronized\n"
     ]
    }
   ],
   "source": [
    "status_url = f\"https://extapigwservice-{config.server}/marketingData/importRequestJobs/{importId}\"\n",
    "response = requests.get(status_url,headers=headers)\n",
    "if (response.status_code < 400):\n",
    "    print(response.status_code)\n",
    "    print(response.json()[\"statusDescription\"])\n",
    "else:\n",
    "    print(response.status_code)\n",
    "    print(response.reason)"
   ]
  },
  {
   "cell_type": "code",
   "execution_count": null,
   "id": "8fd15397",
   "metadata": {},
   "outputs": [],
   "source": []
  }
 ],
 "metadata": {
  "kernelspec": {
   "display_name": "Python 3 (ipykernel)",
   "language": "python",
   "name": "python3"
  },
  "language_info": {
   "codemirror_mode": {
    "name": "ipython",
    "version": 3
   },
   "file_extension": ".py",
   "mimetype": "text/x-python",
   "name": "python",
   "nbconvert_exporter": "python",
   "pygments_lexer": "ipython3",
   "version": "3.9.13"
  },
  "vscode": {
   "interpreter": {
    "hash": "d58f03b53b3ad9cc56b67aacd3ee274dffcbc0e514c783600aa922b19abea3a1"
   }
  }
 },
 "nbformat": 4,
 "nbformat_minor": 5
}
