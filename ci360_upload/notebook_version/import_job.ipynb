{
 "cells": [
  {
   "cell_type": "code",
   "execution_count": 10,
   "id": "420d8077",
   "metadata": {},
   "outputs": [],
   "source": [
    "import base64\n",
    "import jwt\n",
    "import requests\n",
    "import json\n",
    "import os\n",
    "import config\n",
    "import time\n",
    "\n",
    "MAX_RETRIES = 3"
   ]
  },
  {
   "cell_type": "markdown",
   "id": "8ea48af6",
   "metadata": {},
   "source": [
    "Create jwtToken"
   ]
  },
  {
   "cell_type": "code",
   "execution_count": 11,
   "id": "47b2bf66",
   "metadata": {},
   "outputs": [],
   "source": [
    "encodedSecret = base64.b64encode(bytes(config.secret, 'utf-8'))\n",
    "token = jwt.encode({'clientID': config.tenantId}, encodedSecret, algorithm='HS256')\n",
    "# print('\\nJWT token: ', token)"
   ]
  },
  {
   "cell_type": "markdown",
   "id": "0614cf90",
   "metadata": {},
   "source": [
    "Get presigned S3 URL for file upload\n"
   ]
  },
  {
   "cell_type": "code",
   "execution_count": 12,
   "id": "4c27ffb8",
   "metadata": {},
   "outputs": [
    {
     "name": "stdout",
     "output_type": "stream",
     "text": [
      "201\n"
     ]
    }
   ],
   "source": [
    "api_url = f\"https://extapigwservice-{config.server}/marketingData/fileTransferLocation\"\n",
    "headers = {\"Content-Type\": \"application/json\",\n",
    "           \"Authorization\": f\"Bearer {token}\"}\n",
    "\n",
    "for retry in range(MAX_RETRIES):\n",
    "    try:\n",
    "        response = requests.post(api_url, headers=headers)\n",
    "        if (response.status_code < 400):\n",
    "            print(response.status_code)\n",
    "            signedURL = response.json()['signedURL']\n",
    "            break\n",
    "\n",
    "    except requests.exceptions.Timeout:\n",
    "        # request timed out, retry the request\n",
    "        print(\n",
    "            f\"Request timed out. Retrying (attempt {retry+1} of {MAX_RETRIES})\")\n",
    "        time.sleep(1)\n",
    "\n",
    "    except requests.exceptions.RequestException as e:\n",
    "        # some other error occurred, break out of the loop\n",
    "        print(f\"{response.status_code} | Request failed with error: {e}\")\n",
    "        break\n"
   ]
  },
  {
   "cell_type": "markdown",
   "id": "144ced97",
   "metadata": {},
   "source": [
    "Upload file to S3"
   ]
  },
  {
   "cell_type": "code",
   "execution_count": 13,
   "id": "7b8480a4",
   "metadata": {},
   "outputs": [
    {
     "name": "stdout",
     "output_type": "stream",
     "text": [
      "200\n"
     ]
    }
   ],
   "source": [
    "# get current directory of where script is executed\n",
    "script_dir = os.path.abspath('')\n",
    "\n",
    "# create file path\n",
    "path = f\"import_ready_file/{config.filename}\"\n",
    "abs_file_path = os.path.join(script_dir, path)\n",
    "\n",
    "# create payload\n",
    "data = open(abs_file_path, 'rb')\n",
    "\n",
    "import_headers = {\"Content-Type\": \"text/csv\"}\n",
    "\n",
    "for retry in range(MAX_RETRIES):\n",
    "    try:\n",
    "        response = requests.put(signedURL, headers=import_headers, data=data)\n",
    "        if (response.status_code < 400):\n",
    "            print(response.status_code)\n",
    "            break\n",
    "\n",
    "    except requests.exceptions.Timeout:\n",
    "        # request timed out, retry the request\n",
    "        print(\n",
    "            f\"Request timed out. Retrying (attempt {retry+1} of {MAX_RETRIES})\")\n",
    "        time.sleep(1)\n",
    "\n",
    "    except requests.exceptions.RequestException as e:\n",
    "        # some other error occurred, break out of the loop\n",
    "        print(f\"{response.status_code} | Request failed with error: {e}\")\n",
    "        break"
   ]
  },
  {
   "cell_type": "markdown",
   "id": "d31b6180",
   "metadata": {},
   "source": [
    "Submit an Import Request Job | https://go.documentation.sas.com/doc/en/cintcdc/production.a/cintag/dat-import-rest-submit.htm"
   ]
  },
  {
   "cell_type": "code",
   "execution_count": 14,
   "id": "0f3ea749",
   "metadata": {},
   "outputs": [],
   "source": [
    "json_payload= {\n",
    "  \"contentName\":f\"{config.importName}\",\n",
    "  \"dataDescriptorId\":\"9dc18870-f423-4d87-aeca-b7981f0891f7\",\n",
    "  \"fieldDelimiter\":\",\",\n",
    "  \"fileLocation\":f\"{signedURL}\",\n",
    "  \"fileType\":\"CSV\",\n",
    "  \"headerRowIncluded\": \"true\",\n",
    "  \"recordLimit\":0,\n",
    "  \"updateMode\":\"upsert\"  \n",
    "}\n"
   ]
  },
  {
   "cell_type": "code",
   "execution_count": 15,
   "id": "e2118294",
   "metadata": {},
   "outputs": [
    {
     "name": "stdout",
     "output_type": "stream",
     "text": [
      "201\n"
     ]
    }
   ],
   "source": [
    "api_url = f\"https://extapigwservice-{config.server}/marketingData/importRequestJobs\"\n",
    "\n",
    "\n",
    "for retry in range(MAX_RETRIES):\n",
    "    try:\n",
    "        response = requests.post(api_url, json=json_payload, headers=headers)\n",
    "        if (response.status_code < 400):\n",
    "            print(response.status_code)\n",
    "            importId = response.json()['id']\n",
    "            break\n",
    "\n",
    "    except requests.exceptions.Timeout:\n",
    "        # request timed out, retry the request\n",
    "        print(\n",
    "            f\"Request timed out. Retrying (attempt {retry+1} of {MAX_RETRIES})\")\n",
    "        time.sleep(1)\n",
    "\n",
    "    except requests.exceptions.RequestException as e:\n",
    "        # some other error occurred, break out of the loop\n",
    "        print(f\"{response.status_code} | Request failed with error: {e}\")\n",
    "        break\n"
   ]
  },
  {
   "cell_type": "markdown",
   "id": "85bf5748",
   "metadata": {},
   "source": [
    "Get status of upload"
   ]
  },
  {
   "cell_type": "code",
   "execution_count": 23,
   "id": "ebebe3e5",
   "metadata": {},
   "outputs": [
    {
     "name": "stdout",
     "output_type": "stream",
     "text": [
      "200\n",
      "Identity data is currently being synchronized\n"
     ]
    }
   ],
   "source": [
    "status_url = f\"https://extapigwservice-{config.server}/marketingData/importRequestJobs/{importId}\"\n",
    "\n",
    "for retry in range(MAX_RETRIES):\n",
    "    try:\n",
    "        response = requests.get(status_url, headers=headers)\n",
    "        if (response.status_code < 400):\n",
    "            print(response.status_code)\n",
    "            print(response.json()[\"statusDescription\"])\n",
    "\n",
    "            break\n",
    "\n",
    "    except requests.exceptions.Timeout:\n",
    "        # request timed out, retry the request\n",
    "        print(\n",
    "            f\"Request timed out. Retrying (attempt {retry+1} of {MAX_RETRIES})\")\n",
    "        time.sleep(1)\n",
    "\n",
    "    except requests.exceptions.RequestException as e:\n",
    "        # some other error occurred, break out of the loop\n",
    "        print(f\"{response.status_code} | Request failed with error: {e}\")\n",
    "        break"
   ]
  },
  {
   "cell_type": "code",
   "execution_count": null,
   "id": "8fd15397",
   "metadata": {},
   "outputs": [],
   "source": []
  }
 ],
 "metadata": {
  "kernelspec": {
   "display_name": "base",
   "language": "python",
   "name": "python3"
  },
  "language_info": {
   "codemirror_mode": {
    "name": "ipython",
    "version": 3
   },
   "file_extension": ".py",
   "mimetype": "text/x-python",
   "name": "python",
   "nbconvert_exporter": "python",
   "pygments_lexer": "ipython3",
   "version": "3.9.12 (main, Apr  4 2022, 05:22:27) [MSC v.1916 64 bit (AMD64)]"
  },
  "vscode": {
   "interpreter": {
    "hash": "94c474ea32deba08209752d67c96799d2cfaba478a5db0d013f1d944933b220c"
   }
  }
 },
 "nbformat": 4,
 "nbformat_minor": 5
}
