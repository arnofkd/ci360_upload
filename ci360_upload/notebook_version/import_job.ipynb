{
 "cells": [
  {
   "cell_type": "code",
   "execution_count": 10,
   "id": "420d8077",
   "metadata": {},
   "outputs": [],
   "source": [
    "import base64\n",
    "import jwt\n",
    "import requests\n",
    "import json\n",
    "import os\n",
    "import config\n",
    "import time\n",
    "\n",
    "MAX_RETRIES = 3"
   ]
  },
  {
   "cell_type": "markdown",
   "id": "8ea48af6",
   "metadata": {},
   "source": [
    "Create jwtToken"
   ]
  },
  {
   "cell_type": "code",
   "execution_count": 11,
   "id": "47b2bf66",
   "metadata": {},
   "outputs": [],
   "source": [
    "encodedSecret = base64.b64encode(bytes(config.secret, 'utf-8'))\n",
    "token = jwt.encode({'clientID': config.tenantId}, encodedSecret, algorithm='HS256')\n",
    "# print('\\nJWT token: ', token)"
   ]
  },
  {
   "cell_type": "markdown",
   "id": "0614cf90",
   "metadata": {},
   "source": [
    "Get presigned S3 URL for file upload\n"
   ]
  },
  {
   "cell_type": "code",
   "execution_count": 12,
   "id": "4c27ffb8",
   "metadata": {},
   "outputs": [
    {
     "name": "stdout",
     "output_type": "stream",
     "text": [
      "201\n"
     ]
    }
   ],
   "source": [
    "api_url = f\"https://extapigwservice-{config.server}/marketingData/fileTransferLocation\"\n",
    "headers = {\"Content-Type\": \"application/json\",\n",
    "           \"Authorization\": f\"Bearer {token}\"}\n",
    "\n",
    "for retry in range(MAX_RETRIES):\n",
    "    try:\n",
    "        response = requests.post(api_url, headers=headers)\n",
    "        if (response.status_code < 400):\n",
    "            print(response.status_code)\n",
    "            signedURL = response.json()['signedURL']\n",
    "            break\n",
    "\n",
    "    except requests.exceptions.Timeout:\n",
    "        # request timed out, retry the request\n",
    "        print(\n",
    "            f\"Request timed out. Retrying (attempt {retry+1} of {MAX_RETRIES})\")\n",
    "        time.sleep(1)\n",
    "\n",
    "    except requests.exceptions.RequestException as e:\n",
    "        # some other error occurred, break out of the loop\n",
    "        print(f\"{response.status_code} | Request failed with error: {e}\")\n",
    "        break\n"
   ]
  },
  {
   "cell_type": "markdown",
   "id": "144ced97",
   "metadata": {},
   "source": [
    "Upload file to S3"
   ]
  },
  {
   "cell_type": "code",
   "execution_count": 13,
   "id": "7b8480a4",
   "metadata": {},
   "outputs": [
    {
     "name": "stdout",
     "output_type": "stream",
     "text": [
      "200\n"
     ]
    }
   ],
   "source": [
    "# create payload\n",
    "data = open(config.filepath, 'rb')\n",
    "import_headers = {\"Content-Type\": \"text/csv\"}\n",
    "\n",
    "for retry in range(MAX_RETRIES):\n",
    "    try:\n",
    "        response = requests.put(signedURL, headers=import_headers, data=data)\n",
    "        if (response.status_code < 400):\n",
    "            print(response.status_code)\n",
    "            break\n",
    "\n",
    "    except requests.exceptions.Timeout:\n",
    "        # request timed out, retry the request\n",
    "        print(\n",
    "            f\"Request timed out. Retrying (attempt {retry+1} of {MAX_RETRIES})\")\n",
    "        time.sleep(1)\n",
    "\n",
    "    except requests.exceptions.RequestException as e:\n",
    "        # some other error occurred, break out of the loop\n",
    "        print(f\"{response.status_code} | Request failed with error: {e}\")\n",
    "        break"
   ]
  },
  {
   "cell_type": "markdown",
   "id": "d31b6180",
   "metadata": {},
   "source": [
    "Submit an Import Request Job | https://go.documentation.sas.com/doc/en/cintcdc/production.a/cintag/dat-import-rest-submit.htm"
   ]
  },
  {
   "cell_type": "code",
   "execution_count": 15,
   "id": "e2118294",
   "metadata": {},
   "outputs": [
    {
     "name": "stdout",
     "output_type": "stream",
     "text": [
      "201\n"
     ]
    }
   ],
   "source": [
    "config.json_payload['fileLocation'] = f\"{signedURL}\"\n",
    "\n",
    "api_url = f\"https://extapigwservice-{config.server}/marketingData/importRequestJobs\"\n",
    "\n",
    "for retry in range(MAX_RETRIES):\n",
    "    try:\n",
    "        response = requests.post(api_url, json=config.json_payload, headers=headers)\n",
    "        if (response.status_code < 400):\n",
    "            print(response.status_code)\n",
    "            importId = response.json()['id']\n",
    "            break\n",
    "\n",
    "    except requests.exceptions.Timeout:\n",
    "        # request timed out, retry the request\n",
    "        print(\n",
    "            f\"Request timed out. Retrying (attempt {retry+1} of {MAX_RETRIES})\")\n",
    "        time.sleep(1)\n",
    "\n",
    "    except requests.exceptions.RequestException as e:\n",
    "        # some other error occurred, break out of the loop\n",
    "        print(f\"{response.status_code} | Request failed with error: {e}\")\n",
    "        break"
   ]
  },
  {
   "cell_type": "markdown",
   "id": "85bf5748",
   "metadata": {},
   "source": [
    "Get status of upload"
   ]
  },
  {
   "cell_type": "code",
   "execution_count": 23,
   "id": "ebebe3e5",
   "metadata": {},
   "outputs": [
    {
     "name": "stdout",
     "output_type": "stream",
     "text": [
      "200\n",
      "Identity data is currently being synchronized\n"
     ]
    }
   ],
   "source": [
    "status_url = f\"https://extapigwservice-{config.server}/marketingData/importRequestJobs/{importId}\"\n",
    "\n",
    "for retry in range(MAX_RETRIES):\n",
    "    try:\n",
    "        response = requests.get(status_url, headers=headers)\n",
    "        if (response.status_code < 400):\n",
    "            print(response.status_code)\n",
    "            print(response.json()[\"statusDescription\"])\n",
    "\n",
    "            break\n",
    "\n",
    "    except requests.exceptions.Timeout:\n",
    "        # request timed out, retry the request\n",
    "        print(\n",
    "            f\"Request timed out. Retrying (attempt {retry+1} of {MAX_RETRIES})\")\n",
    "        time.sleep(1)\n",
    "\n",
    "    except requests.exceptions.RequestException as e:\n",
    "        # some other error occurred, break out of the loop\n",
    "        print(f\"{response.status_code} | Request failed with error: {e}\")\n",
    "        break"
   ]
  },
  {
   "cell_type": "code",
   "execution_count": null,
   "id": "8fd15397",
   "metadata": {},
   "outputs": [],
   "source": []
  }
 ],
 "metadata": {
  "kernelspec": {
   "display_name": "Python 3",
   "language": "python",
   "name": "python3"
  },
  "language_info": {
   "codemirror_mode": {
    "name": "ipython",
    "version": 3
   },
   "file_extension": ".py",
   "mimetype": "text/x-python",
   "name": "python",
   "nbconvert_exporter": "python",
   "pygments_lexer": "ipython3",
   "version": "3.11.1 (tags/v3.11.1:a7a450f, Dec  6 2022, 19:58:39) [MSC v.1934 64 bit (AMD64)]"
  },
  "vscode": {
   "interpreter": {
    "hash": "4a88d91b1fd66817202f8aee182514f6404d160c5d0c109ace92d1a92e809188"
   }
  }
 },
 "nbformat": 4,
 "nbformat_minor": 5
}
