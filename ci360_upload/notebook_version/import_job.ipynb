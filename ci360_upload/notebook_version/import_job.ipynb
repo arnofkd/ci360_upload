{
 "cells": [
  {
   "attachments": {},
   "cell_type": "markdown",
   "id": "f29fe02b",
   "metadata": {},
   "source": [
    "Import libraries and variables from local config file"
   ]
  },
  {
   "cell_type": "code",
   "execution_count": 10,
   "id": "420d8077",
   "metadata": {},
   "outputs": [],
   "source": [
    "import base64\n",
    "import jwt\n",
    "import requests\n",
    "import json\n",
    "import os\n",
    "import config\n",
    "import time\n",
    "import logging"
   ]
  },
  {
   "cell_type": "markdown",
   "id": "8ea48af6",
   "metadata": {},
   "source": [
    "Create jwtToken"
   ]
  },
  {
   "cell_type": "code",
   "execution_count": 11,
   "id": "47b2bf66",
   "metadata": {},
   "outputs": [],
   "source": [
    "encoded_secret = base64.b64encode(bytes(config.secret, 'utf-8'))\n",
    "token = jwt.encode({'clientID': config.tenantId},\n",
    "                   encoded_secret, algorithm='HS256')\n",
    "# print('\\nJWT token: ', token)"
   ]
  },
  {
   "attachments": {},
   "cell_type": "markdown",
   "id": "4e889871",
   "metadata": {},
   "source": [
    "Define a helper function to make requests with retries using exponential backoff (wait_time 3,6,12s)"
   ]
  },
  {
   "cell_type": "code",
   "execution_count": null,
   "id": "65194a08",
   "metadata": {},
   "outputs": [],
   "source": [
    "MAX_NETWORK_RETRIES = 3\n",
    "\n",
    "def make_request(method, url, **kwargs):\n",
    "    wait_time = 3\n",
    "    for retry in range(MAX_NETWORK_RETRIES):\n",
    "        try:\n",
    "            response = method(url, **kwargs)\n",
    "            if (response.status_code < 400):\n",
    "                print(response.status_code)\n",
    "                return response\n",
    "        except requests.exceptions.Timeout:\n",
    "            print(\n",
    "                f\"Request timed out. Retrying (attempt {retry+1} of {MAX_NETWORK_RETRIES}) in {wait_time} seconds\")\n",
    "            time.sleep(wait_time)\n",
    "            wait_time *= 2\n",
    "        except requests.exceptions.RequestException as e:\n",
    "            print(f\"{response.status_code} | Request failed with error: {e}\")\n",
    "            logging.error(f\"Request failed with error: {e}\")\n",
    "            raise"
   ]
  },
  {
   "cell_type": "code",
   "execution_count": null,
   "id": "8fd15397",
   "metadata": {},
   "outputs": [],
   "source": [
    "# Use a session to persist the HTTP connection\n",
    "\n",
    "with requests.Session() as session:\n",
    "    # Set the authorization header for all requests made through the session\n",
    "    session.headers[\"Authorization\"] = f\"Bearer {token}\"\n",
    "    session.headers[\"Content-Type\"] = \"application/json\"\n",
    "\n",
    "    # Make a POST request to get a signed URL for file upload\n",
    "    api_url = f\"https://extapigwservice-{config.server}/marketingData/fileTransferLocation\"\n",
    "    response = make_request(session.post, api_url)\n",
    "    signed_url = response.json()['signedURL']\n",
    "\n",
    "    # Read the file and upload it to the signed URL | Using manual header\n",
    "    with open(config.filepath, 'rb') as file:\n",
    "        import_headers = {\"Content-Type\": \"text/csv\"}\n",
    "        make_request(requests.put, signed_url,headers=import_headers, data=file)\n",
    "\n",
    "    # Import the uploaded file to your CI360 table\n",
    "    config.json_payload['fileLocation'] = f\"{signed_url}\"\n",
    "    api_url = f\"https://extapigwservice-{config.server}/marketingData/importRequestJobs\"\n",
    "    response = make_request(session.post, api_url, json=config.json_payload)\n",
    "    import_id = response.json()['id']\n",
    "\n",
    "    # Check status of the import request\n",
    "    status_url = f\"https://extapigwservice-{config.server}/marketingData/importRequestJobs/{import_id}\"\n",
    "    response = make_request(session.get, status_url)\n",
    "    status = response.json()['status']\n",
    "    statusDesc = response.json()['statusDescription']\n",
    "    print(f\"Current status: {status}. Description:{statusDesc}\")"
   ]
  }
 ],
 "metadata": {
  "kernelspec": {
   "display_name": "base",
   "language": "python",
   "name": "python3"
  },
  "language_info": {
   "codemirror_mode": {
    "name": "ipython",
    "version": 3
   },
   "file_extension": ".py",
   "mimetype": "text/x-python",
   "name": "python",
   "nbconvert_exporter": "python",
   "pygments_lexer": "ipython3",
   "version": "3.9.12 (main, Apr  4 2022, 05:22:27) [MSC v.1916 64 bit (AMD64)]"
  },
  "vscode": {
   "interpreter": {
    "hash": "94c474ea32deba08209752d67c96799d2cfaba478a5db0d013f1d944933b220c"
   }
  }
 },
 "nbformat": 4,
 "nbformat_minor": 5
}
